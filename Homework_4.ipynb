{
 "cells": [
  {
   "cell_type": "code",
   "execution_count": 7,
   "metadata": {},
   "outputs": [
    {
     "name": "stdout",
     "output_type": "stream",
     "text": [
      "0.004096890719487211\n",
      "0.0026286969333697923\n",
      "Day of the week\n",
      "1    0.002910\n",
      "2    0.003040\n",
      "3    0.002981\n",
      "4    0.003398\n",
      "5    0.004097\n",
      "6    0.002629\n",
      "7    0.003688\n",
      "Name: CostPerImpression, dtype: float64\n"
     ]
    }
   ],
   "source": [
    "###Question1\n",
    "import pandas as pd\n",
    "dataframe = pd.read_csv(\"Travel Pony Facebook.csv\")\n",
    "# print(dataframe)\n",
    "Amount_spend=dataframe[\"Amount Spent (USD)\"]\n",
    "Impression=dataframe[\"Impressions\"]\n",
    "CostPerImpression=Amount_spend/Impression\n",
    "dataframe.insert(loc=0, column=\"CostPerImpression\", value=CostPerImpression)\n",
    "# print(list(dataframe))\n",
    "import arrow\n",
    "DAY=[]\n",
    "for i in range(len(dataframe)):\n",
    "    dt=arrow.get(dataframe['Start Date'].iloc[i], 'M/D/YY')\n",
    "    Dayoftheweek = dt.isoweekday()\n",
    "    DAY.append(Dayoftheweek)\n",
    "\n",
    "dataframe.insert(loc=0,value=DAY,column='Day of the week')\n",
    "Final=dataframe.groupby(['Day of the week'])['CostPerImpression'].mean()\n",
    "Maximum=max(dataframe.groupby(['Day of the week'])['CostPerImpression'].mean())\n",
    "Minimum=min(dataframe.groupby(['Day of the week'])['CostPerImpression'].mean())\n",
    "print(Maximum)\n",
    "print(Minimum)\n",
    "print(Final)"
   ]
  },
  {
   "cell_type": "markdown",
   "metadata": {},
   "source": [
    "Highest cost:Friday         \n",
    "Lowest cost:Saturday\n"
   ]
  },
  {
   "cell_type": "code",
   "execution_count": 8,
   "metadata": {},
   "outputs": [
    {
     "name": "stdout",
     "output_type": "stream",
     "text": [
      "0.7031238065113846\n",
      "0.13020086992866337\n",
      "0.8829931774784137\n",
      "0.7576119292180449\n"
     ]
    }
   ],
   "source": [
    "Question2a=dataframe[\"Amount Spent (USD)\"].corr(dataframe['Reach'])\n",
    "Question2b=dataframe[\"Amount Spent (USD)\"].corr(dataframe['Frequency'])\n",
    "Question2c=dataframe[\"Amount Spent (USD)\"].corr(dataframe['Unique Clicks'])\n",
    "Question2d=dataframe[\"Amount Spent (USD)\"].corr(dataframe['Page Likes'])\n",
    "print(Question2a)\n",
    "print(Question2b)\n",
    "print(Question2c)\n",
    "print(Question2d)"
   ]
  },
  {
   "cell_type": "markdown",
   "metadata": {},
   "source": [
    "#Answer:Unique Clicks=0.883, so it has strongest correlation. \n",
    "#Unick clicks means that when people interested in the advertisement, they will click it. And it means that these people most likely buy the product."
   ]
  },
  {
   "cell_type": "code",
   "execution_count": 10,
   "metadata": {},
   "outputs": [
    {
     "name": "stderr",
     "output_type": "stream",
     "text": [
      "/Users/yifanli/anaconda3/lib/python3.6/site-packages/statsmodels/compat/pandas.py:56: FutureWarning: The pandas.core.datetools module is deprecated and will be removed in a future version. Please use the pandas.tseries module instead.\n",
      "  from pandas.core import datetools\n"
     ]
    },
    {
     "name": "stdout",
     "output_type": "stream",
     "text": [
      "                            OLS Regression Results                            \n",
      "==============================================================================\n",
      "Dep. Variable:          Unique Clicks   R-squared:                       0.557\n",
      "Model:                            OLS   Adj. R-squared:                  0.556\n",
      "Method:                 Least Squares   F-statistic:                     2325.\n",
      "Date:                Thu, 18 Oct 2018   Prob (F-statistic):               0.00\n",
      "Time:                        16:06:10   Log-Likelihood:                -15973.\n",
      "No. Observations:                3705   AIC:                         3.195e+04\n",
      "Df Residuals:                    3703   BIC:                         3.196e+04\n",
      "Df Model:                           2                                         \n",
      "Covariance Type:            nonrobust                                         \n",
      "==============================================================================\n",
      "                 coef    std err          t      P>|t|      [0.025      0.975]\n",
      "------------------------------------------------------------------------------\n",
      "Reach          0.0019   3.12e-05     62.490      0.000       0.002       0.002\n",
      "Frequency      3.6139      0.298     12.109      0.000       3.029       4.199\n",
      "==============================================================================\n",
      "Omnibus:                     5107.616   Durbin-Watson:                   0.803\n",
      "Prob(Omnibus):                  0.000   Jarque-Bera (JB):          5128392.747\n",
      "Skew:                           7.331   Prob(JB):                         0.00\n",
      "Kurtosis:                     184.674   Cond. No.                     9.84e+03\n",
      "==============================================================================\n",
      "\n",
      "Warnings:\n",
      "[1] Standard Errors assume that the covariance matrix of the errors is correctly specified.\n",
      "[2] The condition number is large, 9.84e+03. This might indicate that there are\n",
      "strong multicollinearity or other numerical problems.\n"
     ]
    }
   ],
   "source": [
    "import statsmodels.api as SSMD\n",
    "Question3a=dataframe[\"Unique Clicks\"]\n",
    "Question3b=dataframe[[\"Reach\",\"Frequency\"]]\n",
    "QuestionM= SSMD.OLS(Question3a, Question3b).fit()\n",
    "QuestionP= QuestionM.predict(Question3b) \n",
    "print(QuestionM.summary())"
   ]
  },
  {
   "cell_type": "markdown",
   "metadata": {},
   "source": [
    "#Answer for question3: Frequency has higher coefficient which is 3.029 than Reach, thus Frequency most strongly predicts unique clicks. \n",
    "#when you see the same advertisement multiple times, you have greater possibility to buy this product. \n"
   ]
  },
  {
   "cell_type": "code",
   "execution_count": null,
   "metadata": {},
   "outputs": [],
   "source": []
  }
 ],
 "metadata": {
  "kernelspec": {
   "display_name": "Python 3",
   "language": "python",
   "name": "python3"
  },
  "language_info": {
   "codemirror_mode": {
    "name": "ipython",
    "version": 3
   },
   "file_extension": ".py",
   "mimetype": "text/x-python",
   "name": "python",
   "nbconvert_exporter": "python",
   "pygments_lexer": "ipython3",
   "version": "3.6.4"
  }
 },
 "nbformat": 4,
 "nbformat_minor": 2
}
