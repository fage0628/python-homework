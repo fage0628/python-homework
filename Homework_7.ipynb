{
 "cells": [
  {
   "cell_type": "markdown",
   "metadata": {},
   "source": [
    "Problem 1"
   ]
  },
  {
   "cell_type": "code",
   "execution_count": 1,
   "metadata": {},
   "outputs": [
    {
     "data": {
      "text/html": [
       "<div>\n",
       "<style scoped>\n",
       "    .dataframe tbody tr th:only-of-type {\n",
       "        vertical-align: middle;\n",
       "    }\n",
       "\n",
       "    .dataframe tbody tr th {\n",
       "        vertical-align: top;\n",
       "    }\n",
       "\n",
       "    .dataframe thead th {\n",
       "        text-align: right;\n",
       "    }\n",
       "</style>\n",
       "<table border=\"1\" class=\"dataframe\">\n",
       "  <thead>\n",
       "    <tr style=\"text-align: right;\">\n",
       "      <th></th>\n",
       "      <th>CBSA</th>\n",
       "      <th>NAME</th>\n",
       "      <th>POPESTIMATE2017</th>\n",
       "    </tr>\n",
       "  </thead>\n",
       "  <tbody>\n",
       "    <tr>\n",
       "      <th>0</th>\n",
       "      <td>10180</td>\n",
       "      <td>Abilene, TX</td>\n",
       "      <td>170219</td>\n",
       "    </tr>\n",
       "    <tr>\n",
       "      <th>1</th>\n",
       "      <td>10420</td>\n",
       "      <td>Akron, OH</td>\n",
       "      <td>703505</td>\n",
       "    </tr>\n",
       "    <tr>\n",
       "      <th>2</th>\n",
       "      <td>10500</td>\n",
       "      <td>Albany, GA</td>\n",
       "      <td>151434</td>\n",
       "    </tr>\n",
       "    <tr>\n",
       "      <th>3</th>\n",
       "      <td>10540</td>\n",
       "      <td>Albany, OR</td>\n",
       "      <td>125047</td>\n",
       "    </tr>\n",
       "    <tr>\n",
       "      <th>4</th>\n",
       "      <td>10580</td>\n",
       "      <td>Albany-Schenectady-Troy, NY</td>\n",
       "      <td>886188</td>\n",
       "    </tr>\n",
       "  </tbody>\n",
       "</table>\n",
       "</div>"
      ],
      "text/plain": [
       "    CBSA                         NAME  POPESTIMATE2017\n",
       "0  10180                  Abilene, TX           170219\n",
       "1  10420                    Akron, OH           703505\n",
       "2  10500                   Albany, GA           151434\n",
       "3  10540                   Albany, OR           125047\n",
       "4  10580  Albany-Schenectady-Troy, NY           886188"
      ]
     },
     "execution_count": 1,
     "metadata": {},
     "output_type": "execute_result"
    }
   ],
   "source": [
    "import pandas as pd\n",
    "msas = pd.read_csv(\"msas.csv\")\n",
    "msas.head()"
   ]
  },
  {
   "cell_type": "code",
   "execution_count": 2,
   "metadata": {},
   "outputs": [],
   "source": [
    "\n",
    "geoid = \"31000US\" + msas[\"CBSA\"].astype(str)\n"
   ]
  },
  {
   "cell_type": "code",
   "execution_count": 3,
   "metadata": {},
   "outputs": [],
   "source": [
    "data1 = geoid[:len(geoid)//2]\n",
    "data2 = geoid[len(geoid)//2:]\n",
    "data1 = ','.join(data1)\n",
    "data2 = ','.join(data2) "
   ]
  },
  {
   "cell_type": "code",
   "execution_count": 4,
   "metadata": {},
   "outputs": [],
   "source": [
    "income = ['B19001']\n",
    "incomestring = ','.join(income)"
   ]
  },
  {
   "cell_type": "code",
   "execution_count": 6,
   "metadata": {},
   "outputs": [],
   "source": [
    "import requests, json\n",
    "requesturl = 'http://api.censusreporter.org/1.0/data/show/latest?table_ids=%s&geo_ids=%s' % (incomestring, data1)\n",
    "loadedjson = requests.get(requesturl)\n",
    "parsedjson1 = json.loads(loadedjson.text)\n",
    "requesturl = 'http://api.censusreporter.org/1.0/data/show/latest?table_ids=%s&geo_ids=%s' % (incomestring, data2)\n",
    "loadedjson = requests.get(requesturl)\n",
    "parsedjson2 = json.loads(loadedjson.text)\n"
   ]
  },
  {
   "cell_type": "code",
   "execution_count": 7,
   "metadata": {},
   "outputs": [],
   "source": [
    "dfincome = pd.DataFrame(columns=['state id', 'population amount'], index=list(range(1,len(geoid))))"
   ]
  },
  {
   "cell_type": "code",
   "execution_count": 8,
   "metadata": {},
   "outputs": [],
   "source": [
    "for i in list(range(1,len(geoid)//2)):\n",
    "    dfincome['state id'][i]=[geoid[i]]\n",
    "    dfincome['population amount'][i] = parsedjson1['data'][geoid[i]]['B19001']['estimate']['B19001011'] + parsedjson1['data'][geoid[i]]['B19001']['estimate']['B19001012'] \n",
    "for i in list(range(192,len(geoid))):\n",
    "    dfincome['state id'][i]=[geoid[i]]\n",
    "    dfincome['population amount'][i] = parsedjson2['data'][geoid[i]]['B19001']['estimate']['B19001011'] + parsedjson2['data'][geoid[i]]['B19001']['estimate']['B19001012']"
   ]
  },
  {
   "cell_type": "code",
   "execution_count": 9,
   "metadata": {},
   "outputs": [
    {
     "data": {
      "text/html": [
       "<div>\n",
       "<style scoped>\n",
       "    .dataframe tbody tr th:only-of-type {\n",
       "        vertical-align: middle;\n",
       "    }\n",
       "\n",
       "    .dataframe tbody tr th {\n",
       "        vertical-align: top;\n",
       "    }\n",
       "\n",
       "    .dataframe thead th {\n",
       "        text-align: right;\n",
       "    }\n",
       "</style>\n",
       "<table border=\"1\" class=\"dataframe\">\n",
       "  <thead>\n",
       "    <tr style=\"text-align: right;\">\n",
       "      <th></th>\n",
       "      <th>state id</th>\n",
       "      <th>population amount</th>\n",
       "    </tr>\n",
       "  </thead>\n",
       "  <tbody>\n",
       "    <tr>\n",
       "      <th>249</th>\n",
       "      <td>[31000US35620]</td>\n",
       "      <td>1.03819e+06</td>\n",
       "    </tr>\n",
       "  </tbody>\n",
       "</table>\n",
       "</div>"
      ],
      "text/plain": [
       "           state id population amount\n",
       "249  [31000US35620]       1.03819e+06"
      ]
     },
     "execution_count": 9,
     "metadata": {},
     "output_type": "execute_result"
    }
   ],
   "source": [
    "dfincome.loc[dfincome['population amount'] == max(dfincome['population amount'])]"
   ]
  },
  {
   "cell_type": "code",
   "execution_count": 10,
   "metadata": {},
   "outputs": [
    {
     "data": {
      "text/html": [
       "<div>\n",
       "<style scoped>\n",
       "    .dataframe tbody tr th:only-of-type {\n",
       "        vertical-align: middle;\n",
       "    }\n",
       "\n",
       "    .dataframe tbody tr th {\n",
       "        vertical-align: top;\n",
       "    }\n",
       "\n",
       "    .dataframe thead th {\n",
       "        text-align: right;\n",
       "    }\n",
       "</style>\n",
       "<table border=\"1\" class=\"dataframe\">\n",
       "  <thead>\n",
       "    <tr style=\"text-align: right;\">\n",
       "      <th></th>\n",
       "      <th>CBSA</th>\n",
       "      <th>NAME</th>\n",
       "      <th>POPESTIMATE2017</th>\n",
       "    </tr>\n",
       "  </thead>\n",
       "  <tbody>\n",
       "    <tr>\n",
       "      <th>249</th>\n",
       "      <td>35620</td>\n",
       "      <td>New York-Newark-Jersey City, NY-NJ-PA</td>\n",
       "      <td>20320876</td>\n",
       "    </tr>\n",
       "  </tbody>\n",
       "</table>\n",
       "</div>"
      ],
      "text/plain": [
       "      CBSA                                   NAME  POPESTIMATE2017\n",
       "249  35620  New York-Newark-Jersey City, NY-NJ-PA         20320876"
      ]
     },
     "execution_count": 10,
     "metadata": {},
     "output_type": "execute_result"
    }
   ],
   "source": [
    "msas.loc[msas['CBSA'] == 35620]"
   ]
  },
  {
   "cell_type": "markdown",
   "metadata": {},
   "source": [
    "The city has the highest count of the audience for parameter # 1 is ny"
   ]
  },
  {
   "cell_type": "markdown",
   "metadata": {},
   "source": [
    "problem 2"
   ]
  },
  {
   "cell_type": "code",
   "execution_count": 11,
   "metadata": {},
   "outputs": [],
   "source": [
    "age = ['B01001']\n",
    "agestring = ','.join(age)"
   ]
  },
  {
   "cell_type": "code",
   "execution_count": 13,
   "metadata": {},
   "outputs": [],
   "source": [
    "requesturl = 'http://api.censusreporter.org/1.0/data/show/latest?table_ids=%s&geo_ids=%s' % (agestring, data1)\n",
    "loadedjson = requests.get(requesturl)\n",
    "parsedjson1 = json.loads(loadedjson.text)\n",
    "requesturl = 'http://api.censusreporter.org/1.0/data/show/latest?table_ids=%s&geo_ids=%s' % (agestring, data2)\n",
    "loadedjson = requests.get(requesturl)\n",
    "parsedjson2 = json.loads(loadedjson.text)\n"
   ]
  },
  {
   "cell_type": "code",
   "execution_count": 14,
   "metadata": {},
   "outputs": [],
   "source": [
    "dataframeage = pd.DataFrame(columns=['state id', 'age amount'], index=list(range(1,len(geoid))))"
   ]
  },
  {
   "cell_type": "code",
   "execution_count": 17,
   "metadata": {},
   "outputs": [],
   "source": [
    "for i in list(range(1,len(geoid)//2)):\n",
    "    dataframeage['state id'][i]=[geoid[i]]\n",
    "    dataframeage['age amount'][i] = parsedjson1['data'][geoid[i]]['B01001']['estimate']['B01001007'] + parsedjson1['data'][geoid[i]]['B01001']['estimate']['B01001008'] +parsedjson1['data'][geoid[i]]['B01001']['estimate']['B01001009']+parsedjson1['data'][geoid[i]]['B01001']['estimate']['B01001010']+parsedjson1['data'][geoid[i]]['B01001']['estimate']['B01001011']+parsedjson1['data'][geoid[i]]['B01001']['estimate']['B01001012']\n",
    "    \n",
    "for i in list(range(192,len(geoid))):\n",
    "    dataframeage['state id'][i]=[geoid[i]]\n",
    "    dataframeage['age amount'][i] = parsedjson2['data'][geoid[i]]['B01001']['estimate']['B01001007'] + parsedjson2['data'][geoid[i]]['B01001']['estimate']['B01001008'] +parsedjson2['data'][geoid[i]]['B01001']['estimate']['B01001009']+parsedjson2['data'][geoid[i]]['B01001']['estimate']['B01001010']+parsedjson2['data'][geoid[i]]['B01001']['estimate']['B01001011']+parsedjson2['data'][geoid[i]]['B01001']['estimate']['B01001012']\n",
    "    "
   ]
  },
  {
   "cell_type": "code",
   "execution_count": 19,
   "metadata": {},
   "outputs": [
    {
     "data": {
      "text/html": [
       "<div>\n",
       "<style scoped>\n",
       "    .dataframe tbody tr th:only-of-type {\n",
       "        vertical-align: middle;\n",
       "    }\n",
       "\n",
       "    .dataframe tbody tr th {\n",
       "        vertical-align: top;\n",
       "    }\n",
       "\n",
       "    .dataframe thead th {\n",
       "        text-align: right;\n",
       "    }\n",
       "</style>\n",
       "<table border=\"1\" class=\"dataframe\">\n",
       "  <thead>\n",
       "    <tr style=\"text-align: right;\">\n",
       "      <th></th>\n",
       "      <th>state id</th>\n",
       "      <th>age amount</th>\n",
       "    </tr>\n",
       "  </thead>\n",
       "  <tbody>\n",
       "    <tr>\n",
       "      <th>249</th>\n",
       "      <td>[31000US35620]</td>\n",
       "      <td>2.40159e+06</td>\n",
       "    </tr>\n",
       "  </tbody>\n",
       "</table>\n",
       "</div>"
      ],
      "text/plain": [
       "           state id   age amount\n",
       "249  [31000US35620]  2.40159e+06"
      ]
     },
     "execution_count": 19,
     "metadata": {},
     "output_type": "execute_result"
    }
   ],
   "source": [
    "dataframeage.loc[dataframeage['age amount'] == max(dataframeage['age amount'])]"
   ]
  },
  {
   "cell_type": "code",
   "execution_count": 20,
   "metadata": {},
   "outputs": [
    {
     "data": {
      "text/html": [
       "<div>\n",
       "<style scoped>\n",
       "    .dataframe tbody tr th:only-of-type {\n",
       "        vertical-align: middle;\n",
       "    }\n",
       "\n",
       "    .dataframe tbody tr th {\n",
       "        vertical-align: top;\n",
       "    }\n",
       "\n",
       "    .dataframe thead th {\n",
       "        text-align: right;\n",
       "    }\n",
       "</style>\n",
       "<table border=\"1\" class=\"dataframe\">\n",
       "  <thead>\n",
       "    <tr style=\"text-align: right;\">\n",
       "      <th></th>\n",
       "      <th>CBSA</th>\n",
       "      <th>NAME</th>\n",
       "      <th>POPESTIMATE2017</th>\n",
       "    </tr>\n",
       "  </thead>\n",
       "  <tbody>\n",
       "    <tr>\n",
       "      <th>249</th>\n",
       "      <td>35620</td>\n",
       "      <td>New York-Newark-Jersey City, NY-NJ-PA</td>\n",
       "      <td>20320876</td>\n",
       "    </tr>\n",
       "  </tbody>\n",
       "</table>\n",
       "</div>"
      ],
      "text/plain": [
       "      CBSA                                   NAME  POPESTIMATE2017\n",
       "249  35620  New York-Newark-Jersey City, NY-NJ-PA         20320876"
      ]
     },
     "execution_count": 20,
     "metadata": {},
     "output_type": "execute_result"
    }
   ],
   "source": [
    "msas.loc[msas['CBSA'] == 35620]"
   ]
  },
  {
   "cell_type": "markdown",
   "metadata": {},
   "source": [
    "The city has the highest count of the audience for parameter # 2 is ny"
   ]
  },
  {
   "cell_type": "markdown",
   "metadata": {},
   "source": [
    "problem # 3"
   ]
  },
  {
   "cell_type": "code",
   "execution_count": 21,
   "metadata": {},
   "outputs": [],
   "source": [
    "hispanic = ['B03003']\n",
    "hispanicstring = ','.join(hispanic)"
   ]
  },
  {
   "cell_type": "code",
   "execution_count": 22,
   "metadata": {},
   "outputs": [],
   "source": [
    "requesturl = 'http://api.censusreporter.org/1.0/data/show/latest?table_ids=%s&geo_ids=%s' % (hispanicstring, data1)\n",
    "loadedjson = requests.get(requesturl)\n",
    "parsedjson1 = json.loads(loadedjson.text)\n",
    "requesturl = 'http://api.censusreporter.org/1.0/data/show/latest?table_ids=%s&geo_ids=%s' % (hispanicstring, data2)\n",
    "loadedjson = requests.get(requesturl)\n",
    "parsedjson2 = json.loads(loadedjson.text)\n"
   ]
  },
  {
   "cell_type": "code",
   "execution_count": 23,
   "metadata": {},
   "outputs": [],
   "source": [
    "dataframehispanic = pd.DataFrame(columns=['state id', 'hispanic amount'], index=list(range(1,len(geoid))))\n"
   ]
  },
  {
   "cell_type": "code",
   "execution_count": 24,
   "metadata": {},
   "outputs": [],
   "source": [
    "for i in list(range(1,len(geoid)//2)):\n",
    "    dataframehispanic['state id'][i]=[geoid[i]]\n",
    "    dataframehispanic['hispanic amount'][i] = parsedjson1['data'][geoid[i]]['B03003']['estimate']['B03003003']\n",
    "    \n",
    "for i in list(range(192,len(geoid))):\n",
    "    dataframehispanic['state id'][i]=[geoid[i]]\n",
    "    dataframehispanic['hispanic amount'][i] = parsedjson2['data'][geoid[i]]['B03003']['estimate']['B03003003']\n",
    "    "
   ]
  },
  {
   "cell_type": "code",
   "execution_count": 25,
   "metadata": {},
   "outputs": [
    {
     "data": {
      "text/html": [
       "<div>\n",
       "<style scoped>\n",
       "    .dataframe tbody tr th:only-of-type {\n",
       "        vertical-align: middle;\n",
       "    }\n",
       "\n",
       "    .dataframe tbody tr th {\n",
       "        vertical-align: top;\n",
       "    }\n",
       "\n",
       "    .dataframe thead th {\n",
       "        text-align: right;\n",
       "    }\n",
       "</style>\n",
       "<table border=\"1\" class=\"dataframe\">\n",
       "  <thead>\n",
       "    <tr style=\"text-align: right;\">\n",
       "      <th></th>\n",
       "      <th>state id</th>\n",
       "      <th>hispanic amount</th>\n",
       "    </tr>\n",
       "  </thead>\n",
       "  <tbody>\n",
       "    <tr>\n",
       "      <th>210</th>\n",
       "      <td>[31000US31080]</td>\n",
       "      <td>6.03149e+06</td>\n",
       "    </tr>\n",
       "  </tbody>\n",
       "</table>\n",
       "</div>"
      ],
      "text/plain": [
       "           state id hispanic amount\n",
       "210  [31000US31080]     6.03149e+06"
      ]
     },
     "execution_count": 25,
     "metadata": {},
     "output_type": "execute_result"
    }
   ],
   "source": [
    "dataframehispanic.loc[dataframehispanic['hispanic amount'] == max(dataframehispanic['hispanic amount'])]\n"
   ]
  },
  {
   "cell_type": "code",
   "execution_count": 26,
   "metadata": {},
   "outputs": [
    {
     "data": {
      "text/html": [
       "<div>\n",
       "<style scoped>\n",
       "    .dataframe tbody tr th:only-of-type {\n",
       "        vertical-align: middle;\n",
       "    }\n",
       "\n",
       "    .dataframe tbody tr th {\n",
       "        vertical-align: top;\n",
       "    }\n",
       "\n",
       "    .dataframe thead th {\n",
       "        text-align: right;\n",
       "    }\n",
       "</style>\n",
       "<table border=\"1\" class=\"dataframe\">\n",
       "  <thead>\n",
       "    <tr style=\"text-align: right;\">\n",
       "      <th></th>\n",
       "      <th>CBSA</th>\n",
       "      <th>NAME</th>\n",
       "      <th>POPESTIMATE2017</th>\n",
       "    </tr>\n",
       "  </thead>\n",
       "  <tbody>\n",
       "    <tr>\n",
       "      <th>210</th>\n",
       "      <td>31080</td>\n",
       "      <td>Los Angeles-Long Beach-Anaheim, CA</td>\n",
       "      <td>13353907</td>\n",
       "    </tr>\n",
       "  </tbody>\n",
       "</table>\n",
       "</div>"
      ],
      "text/plain": [
       "      CBSA                                NAME  POPESTIMATE2017\n",
       "210  31080  Los Angeles-Long Beach-Anaheim, CA         13353907"
      ]
     },
     "execution_count": 26,
     "metadata": {},
     "output_type": "execute_result"
    }
   ],
   "source": [
    "msas.loc[msas['CBSA'] ==31080]"
   ]
  },
  {
   "cell_type": "markdown",
   "metadata": {},
   "source": [
    "The city has the highest count of the audience for parameter # 3 is la"
   ]
  },
  {
   "cell_type": "markdown",
   "metadata": {},
   "source": [
    "problem #4"
   ]
  },
  {
   "cell_type": "code",
   "execution_count": 27,
   "metadata": {},
   "outputs": [],
   "source": [
    "temporaryincome = []\n",
    "i = 1\n",
    "while(i < 381):\n",
    "    a = dfincome['population amount'][i]\n",
    "    b = dfincome['population amount'][249]\n",
    "    c = a/b\n",
    "    d = '{:.2%}'.format(float(c))\n",
    "   \n",
    "    e = float(d.strip('%'))\n",
    "    temporaryincome.append(e)\n",
    "    i +=1\n",
    "\n"
   ]
  },
  {
   "cell_type": "code",
   "execution_count": 28,
   "metadata": {},
   "outputs": [],
   "source": [
    "temporaryage = []\n",
    "i = 1\n",
    "while(i < 381):\n",
    "    a = dataframeage['age amount'][i]\n",
    "    b = dataframeage['age amount'][249]\n",
    "    c = a/b\n",
    "    d = '{:.2%}'.format(float(c))\n",
    "   \n",
    "    e = float(d.strip('%'))\n",
    "    temporaryage.append(e)\n",
    "    i +=1\n",
    "\n"
   ]
  },
  {
   "cell_type": "code",
   "execution_count": 29,
   "metadata": {},
   "outputs": [],
   "source": [
    "temporaryhispainc = []\n",
    "i = 1\n",
    "while(i < 381):\n",
    "    a = dataframehispanic['hispanic amount'][i]\n",
    "    b = dataframehispanic['hispanic amount'][249]\n",
    "    c = a/b\n",
    "    d = '{:.2%}'.format(float(c))\n",
    "   \n",
    "    e = float(d.strip('%'))\n",
    "    temporaryhispainc.append(e)\n",
    "    i +=1\n",
    " "
   ]
  },
  {
   "cell_type": "code",
   "execution_count": 30,
   "metadata": {},
   "outputs": [],
   "source": [
    "average = [(a+b+c)/3 for a,b,c in zip(temporaryincome,temporaryage,temporaryhispainc)]\n",
    "\n",
    "average.insert(0, 0)"
   ]
  },
  {
   "cell_type": "code",
   "execution_count": 31,
   "metadata": {},
   "outputs": [
    {
     "data": {
      "text/plain": [
       "(249, 'average')"
      ]
     },
     "execution_count": 31,
     "metadata": {},
     "output_type": "execute_result"
    }
   ],
   "source": [
    "import numpy as np\n",
    "dataframeaverage = pd.DataFrame(columns=['average'], index=list(range(1,len(average))))\n",
    "for i in range(1,len(average)):\n",
    "    dataframeaverage['average'][i]=[average[i]]\n",
    "dataframeaverage.stack().index[np.argmax(dataframeaverage.values)]"
   ]
  },
  {
   "cell_type": "code",
   "execution_count": 32,
   "metadata": {},
   "outputs": [
    {
     "data": {
      "text/plain": [
       "CBSA                                               35620\n",
       "NAME               New York-Newark-Jersey City, NY-NJ-PA\n",
       "POPESTIMATE2017                                 20320876\n",
       "Name: 249, dtype: object"
      ]
     },
     "execution_count": 32,
     "metadata": {},
     "output_type": "execute_result"
    }
   ],
   "source": [
    "msas.loc[249]"
   ]
  },
  {
   "cell_type": "markdown",
   "metadata": {},
   "source": [
    "The city has the highest mean percentage across all three categories is ny"
   ]
  },
  {
   "cell_type": "code",
   "execution_count": null,
   "metadata": {},
   "outputs": [],
   "source": []
  }
 ],
 "metadata": {
  "kernelspec": {
   "display_name": "Python 3",
   "language": "python",
   "name": "python3"
  },
  "language_info": {
   "codemirror_mode": {
    "name": "ipython",
    "version": 3
   },
   "file_extension": ".py",
   "mimetype": "text/x-python",
   "name": "python",
   "nbconvert_exporter": "python",
   "pygments_lexer": "ipython3",
   "version": "3.6.4"
  }
 },
 "nbformat": 4,
 "nbformat_minor": 2
}
